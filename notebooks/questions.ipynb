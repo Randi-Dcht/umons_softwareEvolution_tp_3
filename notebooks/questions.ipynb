{
 "cells": [
  {
   "cell_type": "code",
   "execution_count": 2,
   "id": "c498b2ba-230d-43c5-b0fe-ff70db789112",
   "metadata": {},
   "outputs": [],
   "source": [
    "import pandas as pd\n",
    "import numpy as np\n",
    "import matplotlib.pyplot as plt"
   ]
  },
  {
   "cell_type": "markdown",
   "id": "5ebecced-f90d-47ac-aa9e-4bb20298a084",
   "metadata": {},
   "source": [
    "## Research Question 1\n",
    "### What is the number and proportion of GitHub repositories that are using GitHub Actions workflows, categorized by their main programming language?"
   ]
  },
  {
   "cell_type": "code",
   "execution_count": 3,
   "id": "4e076225-56db-4a8f-b081-8befc24c14f2",
   "metadata": {
    "tags": []
   },
   "outputs": [
    {
     "data": {
      "text/plain": "                            repository  branch    language  \\\n0      00-evan/shattered-pixel-dungeon  master        Java   \n1                  0015/ideasnprojects  master         C++   \n2                     0015/thatproject  master           C   \n3                  007gzs/dingtalk-sdk  master      Python   \n4                       007gzs/meeting  master      Python   \n...                                ...     ...         ...   \n69142            zzzprojects/sqlfiddle  master  JavaScript   \n69143           zzzprojects/sqlfiddle2  master  JavaScript   \n69144           zzzprojects/sqlfiddle3  master  JavaScript   \n69145   zzzprojects/z.extensionmethods  master          C#   \n69146                      zzzzbw/fame  master        Java   \n\n                   created              updated  \\\n0      2014-07-31 21:56:31  2022-01-13 23:41:31   \n1      2019-07-04 08:16:56  2021-03-10 05:31:05   \n2      2019-07-04 08:16:56  2021-12-16 20:49:19   \n3      2018-05-07 09:42:31  2021-06-03 12:49:51   \n4      2019-07-02 09:14:00  2021-04-13 05:49:08   \n...                    ...                  ...   \n69142  2012-01-18 08:25:59  2021-04-12 19:20:03   \n69143  2014-04-20 22:44:28  2021-04-12 19:20:50   \n69144  2016-12-26 19:27:27  2021-04-12 19:27:04   \n69145  2015-03-03 14:49:23  2021-04-06 14:42:44   \n69146  2017-08-07 13:44:22  2021-11-25 14:45:04   \n\n                                         commit  stars  watchers  forks  \\\n0      5d1a2dce6b554b40f6737ead45d411fd98f4c67d   1803        83    580   \n1      bd09568e05e2790ce3f72905995e763600ff3903    332        39    253   \n2      69c85b76c285e9b532b2237fbd4244fd6e7e7820    629        68    447   \n3      7979da2e259fdbc571728cae2425a04dbc65850a    148        14     48   \n4      a1bea997e2849c03e2a3cfa724d036b6769e1abb    167         6     61   \n...                                         ...    ...       ...    ...   \n69142  b0014899c1701e017bd87f826e8e369d163ef574    272        29     53   \n69143  eb6694a8d8f4fcdda82b88bb0f426eb978c304e5    192        17     39   \n69144  d4283d80b161ede014e49ee177e7d98098f6d583    245        16     44   \n69145  bdbec3f0924a01e9f638f1ec3c975bd9ff13beb0    844        95    214   \n69146  5305c0f46d97a74823e4335f0062254a1b14b1e4    178        13     71   \n\n        size  branches  commits  contributors  issues   prs  \n0      69470         1     5165           2.0   859.0  33.0  \n1       1315         1      144           2.0    11.0   7.0  \n2       2160         5      208           2.0     0.0  13.0  \n3        944         1      131           7.0    38.0  13.0  \n4       1051         2      104           2.0    17.0   1.0  \n...      ...       ...      ...           ...     ...   ...  \n69142  18666         9      530           3.0    76.0   4.0  \n69143   2035         2      192           2.0    32.0   3.0  \n69144   1717         2      196           3.0    13.0   6.0  \n69145   6590         1      127           3.0    19.0  14.0  \n69146   7320         3      346           3.0    36.0  13.0  \n\n[69147 rows x 15 columns]",
      "text/html": "<div>\n<style scoped>\n    .dataframe tbody tr th:only-of-type {\n        vertical-align: middle;\n    }\n\n    .dataframe tbody tr th {\n        vertical-align: top;\n    }\n\n    .dataframe thead th {\n        text-align: right;\n    }\n</style>\n<table border=\"1\" class=\"dataframe\">\n  <thead>\n    <tr style=\"text-align: right;\">\n      <th></th>\n      <th>repository</th>\n      <th>branch</th>\n      <th>language</th>\n      <th>created</th>\n      <th>updated</th>\n      <th>commit</th>\n      <th>stars</th>\n      <th>watchers</th>\n      <th>forks</th>\n      <th>size</th>\n      <th>branches</th>\n      <th>commits</th>\n      <th>contributors</th>\n      <th>issues</th>\n      <th>prs</th>\n    </tr>\n  </thead>\n  <tbody>\n    <tr>\n      <th>0</th>\n      <td>00-evan/shattered-pixel-dungeon</td>\n      <td>master</td>\n      <td>Java</td>\n      <td>2014-07-31 21:56:31</td>\n      <td>2022-01-13 23:41:31</td>\n      <td>5d1a2dce6b554b40f6737ead45d411fd98f4c67d</td>\n      <td>1803</td>\n      <td>83</td>\n      <td>580</td>\n      <td>69470</td>\n      <td>1</td>\n      <td>5165</td>\n      <td>2.0</td>\n      <td>859.0</td>\n      <td>33.0</td>\n    </tr>\n    <tr>\n      <th>1</th>\n      <td>0015/ideasnprojects</td>\n      <td>master</td>\n      <td>C++</td>\n      <td>2019-07-04 08:16:56</td>\n      <td>2021-03-10 05:31:05</td>\n      <td>bd09568e05e2790ce3f72905995e763600ff3903</td>\n      <td>332</td>\n      <td>39</td>\n      <td>253</td>\n      <td>1315</td>\n      <td>1</td>\n      <td>144</td>\n      <td>2.0</td>\n      <td>11.0</td>\n      <td>7.0</td>\n    </tr>\n    <tr>\n      <th>2</th>\n      <td>0015/thatproject</td>\n      <td>master</td>\n      <td>C</td>\n      <td>2019-07-04 08:16:56</td>\n      <td>2021-12-16 20:49:19</td>\n      <td>69c85b76c285e9b532b2237fbd4244fd6e7e7820</td>\n      <td>629</td>\n      <td>68</td>\n      <td>447</td>\n      <td>2160</td>\n      <td>5</td>\n      <td>208</td>\n      <td>2.0</td>\n      <td>0.0</td>\n      <td>13.0</td>\n    </tr>\n    <tr>\n      <th>3</th>\n      <td>007gzs/dingtalk-sdk</td>\n      <td>master</td>\n      <td>Python</td>\n      <td>2018-05-07 09:42:31</td>\n      <td>2021-06-03 12:49:51</td>\n      <td>7979da2e259fdbc571728cae2425a04dbc65850a</td>\n      <td>148</td>\n      <td>14</td>\n      <td>48</td>\n      <td>944</td>\n      <td>1</td>\n      <td>131</td>\n      <td>7.0</td>\n      <td>38.0</td>\n      <td>13.0</td>\n    </tr>\n    <tr>\n      <th>4</th>\n      <td>007gzs/meeting</td>\n      <td>master</td>\n      <td>Python</td>\n      <td>2019-07-02 09:14:00</td>\n      <td>2021-04-13 05:49:08</td>\n      <td>a1bea997e2849c03e2a3cfa724d036b6769e1abb</td>\n      <td>167</td>\n      <td>6</td>\n      <td>61</td>\n      <td>1051</td>\n      <td>2</td>\n      <td>104</td>\n      <td>2.0</td>\n      <td>17.0</td>\n      <td>1.0</td>\n    </tr>\n    <tr>\n      <th>...</th>\n      <td>...</td>\n      <td>...</td>\n      <td>...</td>\n      <td>...</td>\n      <td>...</td>\n      <td>...</td>\n      <td>...</td>\n      <td>...</td>\n      <td>...</td>\n      <td>...</td>\n      <td>...</td>\n      <td>...</td>\n      <td>...</td>\n      <td>...</td>\n      <td>...</td>\n    </tr>\n    <tr>\n      <th>69142</th>\n      <td>zzzprojects/sqlfiddle</td>\n      <td>master</td>\n      <td>JavaScript</td>\n      <td>2012-01-18 08:25:59</td>\n      <td>2021-04-12 19:20:03</td>\n      <td>b0014899c1701e017bd87f826e8e369d163ef574</td>\n      <td>272</td>\n      <td>29</td>\n      <td>53</td>\n      <td>18666</td>\n      <td>9</td>\n      <td>530</td>\n      <td>3.0</td>\n      <td>76.0</td>\n      <td>4.0</td>\n    </tr>\n    <tr>\n      <th>69143</th>\n      <td>zzzprojects/sqlfiddle2</td>\n      <td>master</td>\n      <td>JavaScript</td>\n      <td>2014-04-20 22:44:28</td>\n      <td>2021-04-12 19:20:50</td>\n      <td>eb6694a8d8f4fcdda82b88bb0f426eb978c304e5</td>\n      <td>192</td>\n      <td>17</td>\n      <td>39</td>\n      <td>2035</td>\n      <td>2</td>\n      <td>192</td>\n      <td>2.0</td>\n      <td>32.0</td>\n      <td>3.0</td>\n    </tr>\n    <tr>\n      <th>69144</th>\n      <td>zzzprojects/sqlfiddle3</td>\n      <td>master</td>\n      <td>JavaScript</td>\n      <td>2016-12-26 19:27:27</td>\n      <td>2021-04-12 19:27:04</td>\n      <td>d4283d80b161ede014e49ee177e7d98098f6d583</td>\n      <td>245</td>\n      <td>16</td>\n      <td>44</td>\n      <td>1717</td>\n      <td>2</td>\n      <td>196</td>\n      <td>3.0</td>\n      <td>13.0</td>\n      <td>6.0</td>\n    </tr>\n    <tr>\n      <th>69145</th>\n      <td>zzzprojects/z.extensionmethods</td>\n      <td>master</td>\n      <td>C#</td>\n      <td>2015-03-03 14:49:23</td>\n      <td>2021-04-06 14:42:44</td>\n      <td>bdbec3f0924a01e9f638f1ec3c975bd9ff13beb0</td>\n      <td>844</td>\n      <td>95</td>\n      <td>214</td>\n      <td>6590</td>\n      <td>1</td>\n      <td>127</td>\n      <td>3.0</td>\n      <td>19.0</td>\n      <td>14.0</td>\n    </tr>\n    <tr>\n      <th>69146</th>\n      <td>zzzzbw/fame</td>\n      <td>master</td>\n      <td>Java</td>\n      <td>2017-08-07 13:44:22</td>\n      <td>2021-11-25 14:45:04</td>\n      <td>5305c0f46d97a74823e4335f0062254a1b14b1e4</td>\n      <td>178</td>\n      <td>13</td>\n      <td>71</td>\n      <td>7320</td>\n      <td>3</td>\n      <td>346</td>\n      <td>3.0</td>\n      <td>36.0</td>\n      <td>13.0</td>\n    </tr>\n  </tbody>\n</table>\n<p>69147 rows × 15 columns</p>\n</div>"
     },
     "execution_count": 3,
     "metadata": {},
     "output_type": "execute_result"
    }
   ],
   "source": [
    "## The first dataset we will use contains information about GitHub repositories that make use of GitHub Actions workflows.\n",
    "\n",
    "df_repositories = pd.read_csv('../datasets/repositories.csv')\n",
    "df_repositories"
   ]
  },
  {
   "cell_type": "markdown",
   "id": "870533f4-7ba6-49b3-ae5c-cfa4f2f9b1ca",
   "metadata": {},
   "source": [
    "### Requirements : \n",
    "#### 1-First, preprocess the dataset by filtering on repositories with at least 100 stars AND more than 1 contributors\n",
    "#### 2-Quantify the number of repositories, grouped by language\n",
    "    Hint: Use the groupby operation from pandas. See https://pandas.pydata.org/docs/reference/api/pandas.DataFrame.groupby.html\n",
    "#### 3-Quantify the proportion of repositories per language\n",
    "    Hint: proportion per langage = number of repositories per language / total number of repositories"
   ]
  },
  {
   "cell_type": "code",
   "execution_count": 4,
   "id": "b2f528cc-11ab-4d94-b90a-e1000fdaddb2",
   "metadata": {},
   "outputs": [
    {
     "data": {
      "text/plain": "                            repository  branch    language  \\\n0      00-evan/shattered-pixel-dungeon  master        Java   \n1                  0015/ideasnprojects  master         C++   \n2                     0015/thatproject  master           C   \n3                  007gzs/dingtalk-sdk  master      Python   \n4                       007gzs/meeting  master      Python   \n...                                ...     ...         ...   \n69142            zzzprojects/sqlfiddle  master  JavaScript   \n69143           zzzprojects/sqlfiddle2  master  JavaScript   \n69144           zzzprojects/sqlfiddle3  master  JavaScript   \n69145   zzzprojects/z.extensionmethods  master          C#   \n69146                      zzzzbw/fame  master        Java   \n\n                   created              updated  \\\n0      2014-07-31 21:56:31  2022-01-13 23:41:31   \n1      2019-07-04 08:16:56  2021-03-10 05:31:05   \n2      2019-07-04 08:16:56  2021-12-16 20:49:19   \n3      2018-05-07 09:42:31  2021-06-03 12:49:51   \n4      2019-07-02 09:14:00  2021-04-13 05:49:08   \n...                    ...                  ...   \n69142  2012-01-18 08:25:59  2021-04-12 19:20:03   \n69143  2014-04-20 22:44:28  2021-04-12 19:20:50   \n69144  2016-12-26 19:27:27  2021-04-12 19:27:04   \n69145  2015-03-03 14:49:23  2021-04-06 14:42:44   \n69146  2017-08-07 13:44:22  2021-11-25 14:45:04   \n\n                                         commit  stars  watchers  forks  \\\n0      5d1a2dce6b554b40f6737ead45d411fd98f4c67d   1803        83    580   \n1      bd09568e05e2790ce3f72905995e763600ff3903    332        39    253   \n2      69c85b76c285e9b532b2237fbd4244fd6e7e7820    629        68    447   \n3      7979da2e259fdbc571728cae2425a04dbc65850a    148        14     48   \n4      a1bea997e2849c03e2a3cfa724d036b6769e1abb    167         6     61   \n...                                         ...    ...       ...    ...   \n69142  b0014899c1701e017bd87f826e8e369d163ef574    272        29     53   \n69143  eb6694a8d8f4fcdda82b88bb0f426eb978c304e5    192        17     39   \n69144  d4283d80b161ede014e49ee177e7d98098f6d583    245        16     44   \n69145  bdbec3f0924a01e9f638f1ec3c975bd9ff13beb0    844        95    214   \n69146  5305c0f46d97a74823e4335f0062254a1b14b1e4    178        13     71   \n\n        size  branches  commits  contributors  issues   prs  \n0      69470         1     5165           2.0   859.0  33.0  \n1       1315         1      144           2.0    11.0   7.0  \n2       2160         5      208           2.0     0.0  13.0  \n3        944         1      131           7.0    38.0  13.0  \n4       1051         2      104           2.0    17.0   1.0  \n...      ...       ...      ...           ...     ...   ...  \n69142  18666         9      530           3.0    76.0   4.0  \n69143   2035         2      192           2.0    32.0   3.0  \n69144   1717         2      196           3.0    13.0   6.0  \n69145   6590         1      127           3.0    19.0  14.0  \n69146   7320         3      346           3.0    36.0  13.0  \n\n[66069 rows x 15 columns]",
      "text/html": "<div>\n<style scoped>\n    .dataframe tbody tr th:only-of-type {\n        vertical-align: middle;\n    }\n\n    .dataframe tbody tr th {\n        vertical-align: top;\n    }\n\n    .dataframe thead th {\n        text-align: right;\n    }\n</style>\n<table border=\"1\" class=\"dataframe\">\n  <thead>\n    <tr style=\"text-align: right;\">\n      <th></th>\n      <th>repository</th>\n      <th>branch</th>\n      <th>language</th>\n      <th>created</th>\n      <th>updated</th>\n      <th>commit</th>\n      <th>stars</th>\n      <th>watchers</th>\n      <th>forks</th>\n      <th>size</th>\n      <th>branches</th>\n      <th>commits</th>\n      <th>contributors</th>\n      <th>issues</th>\n      <th>prs</th>\n    </tr>\n  </thead>\n  <tbody>\n    <tr>\n      <th>0</th>\n      <td>00-evan/shattered-pixel-dungeon</td>\n      <td>master</td>\n      <td>Java</td>\n      <td>2014-07-31 21:56:31</td>\n      <td>2022-01-13 23:41:31</td>\n      <td>5d1a2dce6b554b40f6737ead45d411fd98f4c67d</td>\n      <td>1803</td>\n      <td>83</td>\n      <td>580</td>\n      <td>69470</td>\n      <td>1</td>\n      <td>5165</td>\n      <td>2.0</td>\n      <td>859.0</td>\n      <td>33.0</td>\n    </tr>\n    <tr>\n      <th>1</th>\n      <td>0015/ideasnprojects</td>\n      <td>master</td>\n      <td>C++</td>\n      <td>2019-07-04 08:16:56</td>\n      <td>2021-03-10 05:31:05</td>\n      <td>bd09568e05e2790ce3f72905995e763600ff3903</td>\n      <td>332</td>\n      <td>39</td>\n      <td>253</td>\n      <td>1315</td>\n      <td>1</td>\n      <td>144</td>\n      <td>2.0</td>\n      <td>11.0</td>\n      <td>7.0</td>\n    </tr>\n    <tr>\n      <th>2</th>\n      <td>0015/thatproject</td>\n      <td>master</td>\n      <td>C</td>\n      <td>2019-07-04 08:16:56</td>\n      <td>2021-12-16 20:49:19</td>\n      <td>69c85b76c285e9b532b2237fbd4244fd6e7e7820</td>\n      <td>629</td>\n      <td>68</td>\n      <td>447</td>\n      <td>2160</td>\n      <td>5</td>\n      <td>208</td>\n      <td>2.0</td>\n      <td>0.0</td>\n      <td>13.0</td>\n    </tr>\n    <tr>\n      <th>3</th>\n      <td>007gzs/dingtalk-sdk</td>\n      <td>master</td>\n      <td>Python</td>\n      <td>2018-05-07 09:42:31</td>\n      <td>2021-06-03 12:49:51</td>\n      <td>7979da2e259fdbc571728cae2425a04dbc65850a</td>\n      <td>148</td>\n      <td>14</td>\n      <td>48</td>\n      <td>944</td>\n      <td>1</td>\n      <td>131</td>\n      <td>7.0</td>\n      <td>38.0</td>\n      <td>13.0</td>\n    </tr>\n    <tr>\n      <th>4</th>\n      <td>007gzs/meeting</td>\n      <td>master</td>\n      <td>Python</td>\n      <td>2019-07-02 09:14:00</td>\n      <td>2021-04-13 05:49:08</td>\n      <td>a1bea997e2849c03e2a3cfa724d036b6769e1abb</td>\n      <td>167</td>\n      <td>6</td>\n      <td>61</td>\n      <td>1051</td>\n      <td>2</td>\n      <td>104</td>\n      <td>2.0</td>\n      <td>17.0</td>\n      <td>1.0</td>\n    </tr>\n    <tr>\n      <th>...</th>\n      <td>...</td>\n      <td>...</td>\n      <td>...</td>\n      <td>...</td>\n      <td>...</td>\n      <td>...</td>\n      <td>...</td>\n      <td>...</td>\n      <td>...</td>\n      <td>...</td>\n      <td>...</td>\n      <td>...</td>\n      <td>...</td>\n      <td>...</td>\n      <td>...</td>\n    </tr>\n    <tr>\n      <th>69142</th>\n      <td>zzzprojects/sqlfiddle</td>\n      <td>master</td>\n      <td>JavaScript</td>\n      <td>2012-01-18 08:25:59</td>\n      <td>2021-04-12 19:20:03</td>\n      <td>b0014899c1701e017bd87f826e8e369d163ef574</td>\n      <td>272</td>\n      <td>29</td>\n      <td>53</td>\n      <td>18666</td>\n      <td>9</td>\n      <td>530</td>\n      <td>3.0</td>\n      <td>76.0</td>\n      <td>4.0</td>\n    </tr>\n    <tr>\n      <th>69143</th>\n      <td>zzzprojects/sqlfiddle2</td>\n      <td>master</td>\n      <td>JavaScript</td>\n      <td>2014-04-20 22:44:28</td>\n      <td>2021-04-12 19:20:50</td>\n      <td>eb6694a8d8f4fcdda82b88bb0f426eb978c304e5</td>\n      <td>192</td>\n      <td>17</td>\n      <td>39</td>\n      <td>2035</td>\n      <td>2</td>\n      <td>192</td>\n      <td>2.0</td>\n      <td>32.0</td>\n      <td>3.0</td>\n    </tr>\n    <tr>\n      <th>69144</th>\n      <td>zzzprojects/sqlfiddle3</td>\n      <td>master</td>\n      <td>JavaScript</td>\n      <td>2016-12-26 19:27:27</td>\n      <td>2021-04-12 19:27:04</td>\n      <td>d4283d80b161ede014e49ee177e7d98098f6d583</td>\n      <td>245</td>\n      <td>16</td>\n      <td>44</td>\n      <td>1717</td>\n      <td>2</td>\n      <td>196</td>\n      <td>3.0</td>\n      <td>13.0</td>\n      <td>6.0</td>\n    </tr>\n    <tr>\n      <th>69145</th>\n      <td>zzzprojects/z.extensionmethods</td>\n      <td>master</td>\n      <td>C#</td>\n      <td>2015-03-03 14:49:23</td>\n      <td>2021-04-06 14:42:44</td>\n      <td>bdbec3f0924a01e9f638f1ec3c975bd9ff13beb0</td>\n      <td>844</td>\n      <td>95</td>\n      <td>214</td>\n      <td>6590</td>\n      <td>1</td>\n      <td>127</td>\n      <td>3.0</td>\n      <td>19.0</td>\n      <td>14.0</td>\n    </tr>\n    <tr>\n      <th>69146</th>\n      <td>zzzzbw/fame</td>\n      <td>master</td>\n      <td>Java</td>\n      <td>2017-08-07 13:44:22</td>\n      <td>2021-11-25 14:45:04</td>\n      <td>5305c0f46d97a74823e4335f0062254a1b14b1e4</td>\n      <td>178</td>\n      <td>13</td>\n      <td>71</td>\n      <td>7320</td>\n      <td>3</td>\n      <td>346</td>\n      <td>3.0</td>\n      <td>36.0</td>\n      <td>13.0</td>\n    </tr>\n  </tbody>\n</table>\n<p>66069 rows × 15 columns</p>\n</div>"
     },
     "execution_count": 4,
     "metadata": {},
     "output_type": "execute_result"
    }
   ],
   "source": [
    "q1 = df_repositories[df_repositories['stars'] >= 100]\n",
    "q1 = q1[q1['contributors'] > 1]\n",
    "q1"
   ]
  },
  {
   "cell_type": "code",
   "execution_count": 5,
   "id": "c19a2f42-569a-4b14-8268-db56a17995f3",
   "metadata": {},
   "outputs": [
    {
     "data": {
      "text/plain": "{'C': [2, 24, 26, 107, 182, 188, 207, 217, 228, 246, 334, 340, 347, 348, 353, 370, 377, 382, 386, 392, 405, 407, 447, 486, 492, 503, 544, 560, 571, 578, 604, 607, 610, 664, 667, 674, 675, 679, 777, 797, 801, 802, 804, 805, 807, 813, 814, 863, 897, 905, 913, 914, 972, 978, 1001, 1096, 1097, 1100, 1151, 1171, 1208, 1211, 1213, 1214, 1262, 1266, 1271, 1323, 1333, 1336, 1358, 1374, 1433, 1500, 1515, 1558, 1559, 1583, 1604, 1612, 1689, 1697, 1704, 1717, 1721, 1753, 1769, 1813, 1829, 1835, 1849, 1850, 1868, 1880, 1887, 1890, 1904, 1905, 1919, 1952, ...], 'C#': [30, 42, 111, 146, 185, 186, 194, 203, 210, 237, 300, 317, 341, 374, 388, 397, 404, 420, 426, 437, 439, 440, 441, 442, 448, 462, 464, 469, 476, 494, 501, 502, 517, 562, 625, 641, 734, 759, 765, 824, 827, 860, 872, 873, 874, 875, 876, 877, 882, 899, 918, 988, 1024, 1025, 1076, 1077, 1102, 1131, 1137, 1138, 1166, 1175, 1231, 1264, 1278, 1279, 1345, 1386, 1413, 1569, 1605, 1695, 1711, 1712, 1713, 1722, 1781, 1782, 1783, 1795, 1799, 1800, 1818, 1886, 1888, 1889, 1895, 1935, 1961, 1973, 1974, 2022, 2075, 2079, 2097, 2134, 2322, 2323, 2329, 2330, ...], 'C++': [1, 11, 17, 22, 41, 67, 69, 116, 117, 118, 138, 164, 174, 192, 209, 219, 231, 232, 234, 236, 245, 251, 275, 278, 282, 361, 371, 376, 399, 406, 429, 431, 435, 436, 443, 449, 496, 499, 520, 546, 549, 552, 553, 572, 581, 592, 597, 601, 602, 605, 606, 611, 612, 617, 640, 652, 659, 660, 661, 662, 663, 666, 668, 669, 670, 682, 702, 714, 771, 781, 783, 784, 785, 786, 787, 792, 793, 794, 795, 798, 799, 800, 803, 806, 808, 809, 810, 812, 887, 888, 910, 932, 933, 955, 963, 965, 971, 982, 983, 989, ...], 'Go': [14, 27, 33, 43, 54, 57, 81, 126, 139, 156, 157, 158, 159, 183, 218, 220, 229, 265, 266, 333, 342, 343, 346, 351, 362, 363, 364, 365, 369, 372, 381, 453, 470, 471, 474, 515, 522, 542, 577, 579, 580, 608, 628, 639, 681, 716, 728, 748, 749, 757, 821, 847, 866, 927, 944, 945, 949, 966, 973, 984, 987, 991, 1069, 1070, 1074, 1091, 1092, 1094, 1098, 1112, 1140, 1149, 1150, 1161, 1162, 1163, 1167, 1181, 1205, 1295, 1366, 1377, 1389, 1390, 1403, 1449, 1640, 1646, 1656, 1661, 1678, 1679, 1696, 1759, 1791, 1796, 1802, 1812, 1845, 1848, ...], 'Java': [0, 18, 44, 83, 114, 125, 129, 135, 136, 142, 143, 163, 169, 170, 178, 201, 227, 257, 283, 311, 323, 331, 339, 344, 345, 356, 360, 378, 398, 403, 415, 455, 468, 490, 500, 511, 512, 539, 547, 559, 573, 587, 588, 697, 715, 747, 758, 767, 772, 862, 911, 921, 926, 931, 957, 962, 969, 981, 986, 997, 998, 999, 1003, 1017, 1027, 1054, 1055, 1056, 1057, 1059, 1060, 1061, 1084, 1085, 1099, 1104, 1119, 1129, 1130, 1154, 1157, 1168, 1177, 1247, 1292, 1297, 1298, 1299, 1307, 1332, 1372, 1387, 1408, 1430, 1434, 1445, 1454, 1468, 1506, 1507, ...], 'JavaScript': [9, 19, 21, 46, 47, 72, 73, 75, 82, 95, 100, 101, 102, 103, 104, 113, 115, 119, 120, 124, 128, 131, 137, 144, 147, 148, 149, 150, 167, 168, 179, 184, 187, 196, 198, 200, 211, 212, 215, 216, 226, 230, 233, 235, 247, 248, 254, 255, 256, 258, 262, 270, 271, 272, 274, 276, 286, 289, 292, 293, 295, 303, 304, 308, 313, 318, 322, 324, 325, 326, 327, 329, 332, 350, 366, 367, 373, 380, 384, 400, 401, 416, 425, 428, 430, 451, 465, 467, 485, 487, 507, 510, 513, 524, 525, 526, 527, 530, 532, 543, ...], 'Kotlin': [36, 195, 223, 267, 410, 424, 636, 689, 705, 707, 861, 936, 937, 938, 1067, 1217, 1220, 1221, 1293, 1294, 1341, 1532, 1533, 1537, 1545, 1616, 1617, 1618, 1668, 1692, 1715, 1716, 1733, 1734, 1792, 2074, 2157, 2169, 2263, 2337, 2408, 2409, 2443, 2481, 2484, 2507, 2860, 2896, 2988, 3049, 3050, 3054, 3055, 3056, 3057, 3061, 3062, 3064, 3066, 3069, 3071, 3072, 3073, 3074, 3075, 3095, 3155, 3177, 3234, 3262, 3268, 3272, 3402, 3463, 3985, 4000, 4055, 4067, 4078, 4300, 4425, 4577, 4578, 4681, 4848, 5264, 5280, 5403, 5423, 5469, 5488, 5671, 5737, 5738, 6050, 6067, 6095, 6109, 6143, 6145, ...], 'Objective-C': [37, 241, 354, 402, 411, 460, 595, 642, 665, 890, 892, 894, 964, 1000, 1036, 1215, 1250, 1256, 1378, 1519, 1632, 1684, 1739, 1766, 1810, 1969, 2114, 2224, 2292, 2335, 2354, 2371, 2451, 2456, 2490, 2658, 2788, 3154, 3556, 3597, 3684, 3685, 3691, 3694, 3697, 3699, 4032, 4040, 4044, 4068, 4139, 4160, 4161, 4171, 4502, 4546, 4660, 4815, 5307, 5545, 6036, 6042, 6277, 6336, 6630, 6683, 6736, 7185, 7357, 7601, 7605, 7613, 7730, 7889, 7985, 8180, 8198, 8200, 8201, 8481, 8523, 8590, 8600, 8603, 8721, 9318, 9319, 9476, 9612, 9700, 9834, 9848, 9923, 9952, 9958, 9960, 10061, 10090, 10144, 10145, ...], 'PHP': [62, 85, 86, 87, 88, 89, 90, 91, 92, 93, 94, 96, 97, 98, 99, 165, 166, 189, 190, 213, 239, 252, 288, 294, 298, 349, 391, 396, 414, 417, 418, 419, 488, 498, 568, 593, 598, 638, 643, 645, 672, 677, 678, 688, 703, 704, 851, 871, 935, 947, 948, 967, 968, 976, 979, 980, 1026, 1065, 1110, 1117, 1118, 1141, 1145, 1209, 1227, 1228, 1236, 1257, 1313, 1380, 1383, 1455, 1456, 1457, 1458, 1459, 1460, 1629, 1634, 1641, 1677, 1680, 1682, 1685, 1710, 1732, 1788, 1793, 1809, 1837, 1840, 1841, 1846, 1851, 1856, 1909, 1980, 2000, 2001, 2008, ...], 'Python': [3, 4, 5, 7, 10, 12, 15, 20, 25, 31, 32, 34, 40, 49, 50, 51, 52, 77, 80, 84, 105, 108, 110, 123, 132, 140, 172, 173, 175, 176, 180, 193, 199, 206, 214, 224, 225, 240, 249, 250, 259, 260, 264, 273, 290, 307, 335, 336, 368, 375, 379, 385, 393, 395, 408, 413, 421, 423, 432, 433, 454, 458, 463, 466, 472, 475, 477, 478, 481, 482, 491, 493, 497, 504, 508, 518, 519, 521, 528, 531, 533, 534, 538, 540, 548, 556, 557, 558, 564, 565, 575, 582, 583, 584, 585, 591, 594, 603, 613, 615, ...], 'Ruby': [121, 181, 445, 450, 456, 457, 459, 461, 473, 523, 545, 555, 718, 750, 751, 752, 753, 754, 755, 756, 761, 762, 763, 764, 773, 780, 844, 846, 868, 1029, 1053, 1120, 1121, 1122, 1185, 1191, 1277, 1280, 1300, 1303, 1305, 1402, 1415, 1437, 1536, 1543, 1547, 1549, 1553, 1564, 1688, 1797, 1843, 1913, 1987, 1999, 2020, 2078, 2085, 2139, 2146, 2154, 2160, 2455, 2516, 2520, 2620, 2622, 2642, 2643, 2644, 2645, 2646, 2647, 2648, 2649, 2660, 2670, 2742, 2751, 2804, 2880, 3000, 3013, 3014, 3078, 3112, 3113, 3114, 3276, 3277, 3278, 3280, 3281, 3282, 3283, 3285, 3286, 3287, 3288, ...], 'Shell': [53, 68, 71, 122, 154, 155, 177, 202, 287, 314, 338, 387, 427, 514, 535, 537, 541, 609, 691, 706, 724, 774, 788, 811, 865, 870, 985, 993, 1028, 1037, 1052, 1172, 1202, 1226, 1237, 1245, 1272, 1273, 1285, 1286, 1287, 1360, 1388, 1405, 1419, 1435, 1511, 1613, 1630, 1655, 1666, 1686, 1702, 1705, 1754, 1957, 1968, 2077, 2083, 2107, 2151, 2230, 2497, 2524, 2525, 2538, 2542, 2552, 2672, 2684, 2703, 2838, 2854, 2927, 2961, 2981, 3004, 3023, 3032, 3036, 3084, 3094, 3170, 3171, 3172, 3253, 3269, 3360, 3391, 3433, 3495, 3537, 3567, 3581, 3589, 3702, 3730, 3836, 3850, 3877, ...], 'Smalltalk': [12549, 15391, 19278, 40135, 47108, 47109, 48183, 54500, 58540, 58954], 'Swift': [29, 78, 133, 242, 243, 244, 285, 296, 302, 412, 422, 505, 506, 574, 589, 651, 676, 867, 903, 1116, 1148, 1196, 1263, 1379, 1467, 1522, 1527, 1529, 1579, 1762, 1763, 1764, 1779, 1820, 1842, 2009, 2042, 2045, 2055, 2056, 2072, 2117, 2140, 2158, 2244, 2302, 2319, 2336, 2533, 2605, 2693, 2720, 2728, 2831, 2849, 2925, 2933, 2934, 2935, 2936, 2982, 2995, 3116, 3151, 3331, 3483, 3549, 3590, 3591, 3920, 3999, 4045, 4049, 4087, 4089, 4090, 4091, 4093, 4094, 4095, 4096, 4098, 4099, 4100, 4101, 4102, 4103, 4105, 4106, 4107, 4109, 4110, 4111, 4112, 4130, 4137, 4147, 4165, 4169, 4393, ...], 'TypeScript': [8, 13, 35, 38, 45, 48, 55, 56, 58, 59, 60, 63, 64, 65, 66, 74, 76, 79, 134, 145, 151, 152, 153, 171, 191, 197, 205, 222, 263, 268, 269, 277, 279, 280, 297, 301, 321, 330, 337, 438, 444, 446, 452, 479, 480, 483, 484, 489, 516, 536, 551, 566, 567, 570, 599, 619, 620, 626, 637, 700, 708, 709, 710, 712, 719, 720, 721, 725, 726, 727, 729, 730, 731, 732, 733, 735, 737, 738, 739, 740, 741, 742, 743, 744, 745, 746, 768, 779, 884, 900, 904, 906, 928, 929, 946, 1016, 1018, 1030, 1032, 1033, ...]}"
     },
     "execution_count": 5,
     "metadata": {},
     "output_type": "execute_result"
    }
   ],
   "source": [
    "g1 = q1.groupby('language').groups\n",
    "g1"
   ]
  },
  {
   "cell_type": "code",
   "execution_count": 6,
   "id": "d4be220f-5d05-4aa4-845a-34af3e2bde50",
   "metadata": {},
   "outputs": [
    {
     "data": {
      "text/plain": "language\nC               6.193525\nC#              5.156730\nC++             8.150570\nGo              7.328702\nJava            8.657616\nJavaScript     19.770240\nKotlin          1.571085\nObjective-C     0.955062\nPHP             5.925623\nPython         17.749625\nRuby            3.883818\nShell           3.269309\nSmalltalk       0.015136\nSwift           2.011533\nTypeScript      9.361425\ndtype: float64"
     },
     "execution_count": 6,
     "metadata": {},
     "output_type": "execute_result"
    }
   ],
   "source": [
    "num = q1.groupby('language').size()\n",
    "den = q1.groupby('language').size().sum()\n",
    "(num/den)*100"
   ]
  },
  {
   "cell_type": "markdown",
   "id": "96f191f9-fb2e-48f2-b68d-8e42fb1a96d3",
   "metadata": {
    "tags": []
   },
   "source": [
    "## Research Question 2\n",
    "### What are the top 10 most frequent events that trigger workflows, and what is the proportion of workflows using them?"
   ]
  },
  {
   "cell_type": "code",
   "execution_count": 7,
   "id": "4a2b4e3d-0d1e-4da9-83e3-2c7e8aae2674",
   "metadata": {
    "tags": []
   },
   "outputs": [
    {
     "data": {
      "text/plain": "                repository            filename               name  \\\n0           0101/pipetools           tests.yml              Tests   \n1           0101/pipetools    publish_docs.yml       Publish docs   \n2       05bit/peewee-async              ci.yml                 CI   \n3      07akioni/css-render          nodejs.yml         Node.js CI   \n4      0b01001001/spectree   pythonpackage.yml     Python package   \n...                    ...                 ...                ...   \n70273       zzzeek/alembic      run-on-pr.yaml  Run tests on a pr   \n70274    zzzeek/sqlalchemy       run-test.yaml          Run tests   \n70275    zzzeek/sqlalchemy      run-on-pr.yaml  Run tests on a pr   \n70276    zzzeek/sqlalchemy  create-wheels.yaml       Create wheel   \n70277          zzzm/hostsx            main.yml             Deploy   \n\n                        events  jobs  \n0           push, pull_request     2  \n1                         push     1  \n2           push, pull_request     1  \n3           push, pull_request     1  \n4           pull_request, push     2  \n...                        ...   ...  \n70273             pull_request     2  \n70274                     push     4  \n70275             pull_request     3  \n70276                  release     3  \n70277  push, workflow_dispatch     1  \n\n[70278 rows x 5 columns]",
      "text/html": "<div>\n<style scoped>\n    .dataframe tbody tr th:only-of-type {\n        vertical-align: middle;\n    }\n\n    .dataframe tbody tr th {\n        vertical-align: top;\n    }\n\n    .dataframe thead th {\n        text-align: right;\n    }\n</style>\n<table border=\"1\" class=\"dataframe\">\n  <thead>\n    <tr style=\"text-align: right;\">\n      <th></th>\n      <th>repository</th>\n      <th>filename</th>\n      <th>name</th>\n      <th>events</th>\n      <th>jobs</th>\n    </tr>\n  </thead>\n  <tbody>\n    <tr>\n      <th>0</th>\n      <td>0101/pipetools</td>\n      <td>tests.yml</td>\n      <td>Tests</td>\n      <td>push, pull_request</td>\n      <td>2</td>\n    </tr>\n    <tr>\n      <th>1</th>\n      <td>0101/pipetools</td>\n      <td>publish_docs.yml</td>\n      <td>Publish docs</td>\n      <td>push</td>\n      <td>1</td>\n    </tr>\n    <tr>\n      <th>2</th>\n      <td>05bit/peewee-async</td>\n      <td>ci.yml</td>\n      <td>CI</td>\n      <td>push, pull_request</td>\n      <td>1</td>\n    </tr>\n    <tr>\n      <th>3</th>\n      <td>07akioni/css-render</td>\n      <td>nodejs.yml</td>\n      <td>Node.js CI</td>\n      <td>push, pull_request</td>\n      <td>1</td>\n    </tr>\n    <tr>\n      <th>4</th>\n      <td>0b01001001/spectree</td>\n      <td>pythonpackage.yml</td>\n      <td>Python package</td>\n      <td>pull_request, push</td>\n      <td>2</td>\n    </tr>\n    <tr>\n      <th>...</th>\n      <td>...</td>\n      <td>...</td>\n      <td>...</td>\n      <td>...</td>\n      <td>...</td>\n    </tr>\n    <tr>\n      <th>70273</th>\n      <td>zzzeek/alembic</td>\n      <td>run-on-pr.yaml</td>\n      <td>Run tests on a pr</td>\n      <td>pull_request</td>\n      <td>2</td>\n    </tr>\n    <tr>\n      <th>70274</th>\n      <td>zzzeek/sqlalchemy</td>\n      <td>run-test.yaml</td>\n      <td>Run tests</td>\n      <td>push</td>\n      <td>4</td>\n    </tr>\n    <tr>\n      <th>70275</th>\n      <td>zzzeek/sqlalchemy</td>\n      <td>run-on-pr.yaml</td>\n      <td>Run tests on a pr</td>\n      <td>pull_request</td>\n      <td>3</td>\n    </tr>\n    <tr>\n      <th>70276</th>\n      <td>zzzeek/sqlalchemy</td>\n      <td>create-wheels.yaml</td>\n      <td>Create wheel</td>\n      <td>release</td>\n      <td>3</td>\n    </tr>\n    <tr>\n      <th>70277</th>\n      <td>zzzm/hostsx</td>\n      <td>main.yml</td>\n      <td>Deploy</td>\n      <td>push, workflow_dispatch</td>\n      <td>1</td>\n    </tr>\n  </tbody>\n</table>\n<p>70278 rows × 5 columns</p>\n</div>"
     },
     "execution_count": 7,
     "metadata": {},
     "output_type": "execute_result"
    }
   ],
   "source": [
    "## The second dataset we will use contains information about GitHub workflows, each reposity may define one or more workflows.\n",
    "\n",
    "df_workflows = pd.read_csv('../datasets/workflows.csv')\n",
    "df_workflows"
   ]
  },
  {
   "cell_type": "markdown",
   "id": "ddd141f7-c2c5-4bc1-830d-54c781068063",
   "metadata": {},
   "source": [
    "### Requirements : \n",
    "#### 1-Split the events column (containig the triggers) and explode it \n",
    "    Hint: For the split function, see https://www.geeksforgeeks.org/python-string-split/\n",
    "    For the explode function, see https://pandas.pydata.org/docs/reference/api/pandas.DataFrame.explode.html\n",
    "#### 2-Quantify the number of workflows grouped by event\n",
    "#### 3-Quantify the proportion of workflows grouped by event\n",
    "    Hint: proportion per event = number of workflows per event / total number of workflows\n",
    "#### 4-Sort all events in decreasing order of proportion\n",
    "#### 5-Using the order of step 4, quantify the cumulative proportion of workflows\n",
    "    Hint: The cumulative proportion is calculated by dividing the cumulative frequency by the total frequency.\n",
    "    See, for example, https://www.geeksforgeeks.org/cumulative-percentage-of-a-column-in-pandas-python/"
   ]
  },
  {
   "cell_type": "code",
   "execution_count": 7,
   "id": "20aa3c92-1802-4dce-9050-6c14b0f6c1d6",
   "metadata": {},
   "outputs": [],
   "source": []
  },
  {
   "cell_type": "code",
   "execution_count": 7,
   "id": "e59e160b-1a7f-44f3-9fe2-0507d3eeed62",
   "metadata": {},
   "outputs": [],
   "source": []
  },
  {
   "cell_type": "code",
   "execution_count": 7,
   "id": "d02dc31f-30e2-472f-aa54-f8567ebf19e4",
   "metadata": {},
   "outputs": [],
   "source": []
  },
  {
   "cell_type": "markdown",
   "id": "e192a0c2-d914-462b-b1c3-e47c2d1ecd50",
   "metadata": {},
   "source": [
    "## Research Question 3\n",
    "\n",
    "The GitHub Actions marketplace classifies all published actions in a predefined set of categories (e.g., api-management, continuous-integration, publishing, utilities)\n",
    "Each action has a required primary category and an optional secondary category.\n",
    "\n",
    "### What is the number and proportion of GitHub Actions that can be found in each category?"
   ]
  },
  {
   "cell_type": "code",
   "execution_count": 8,
   "id": "b982c7ff-5dc6-465b-a34f-bc1094db5a06",
   "metadata": {
    "tags": []
   },
   "outputs": [
    {
     "data": {
      "text/plain": "                                           actions  \\\n0             protontypes/continuous-reforestation   \n1             phillipdupuis/pydantic-to-typescript   \n2                         joelwmale/webhook-action   \n3                getsentry/action-github-app-token   \n4                       louisbrunner/checks-action   \n...                                            ...   \n9126              siacodelabs/download-from-skynet   \n9127                  siacodelabs/upload-to-skynet   \n9128                  zcong1993/actions-git-mirror   \n9129                       olizilla/add-to-estuary   \n9130  application-research/estuary-uploader-action   \n\n                                     category  stars open_issues  \\\n0                 [api-management, community]  168.0           4   \n1     [dependency-management, api-management]  157.0           8   \n2                [monitoring, api-management]  115.0           1   \n3                            [api-management]  111.0           3   \n4                 [api-management, reporting]   96.0           3   \n...                                       ...    ...         ...   \n9126                       [backup-utilities]    1.0           1   \n9127                       [backup-utilities]    1.0           1   \n9128            [utilities, backup-utilities]    0.0           0   \n9129           [publishing, backup-utilities]    1.0           0   \n9130           [publishing, backup-utilities]    1.0           0   \n\n      pull_requests  \n0               0.0  \n1               4.0  \n2               6.0  \n3               5.0  \n4               1.0  \n...             ...  \n9126            0.0  \n9127            0.0  \n9128            0.0  \n9129            0.0  \n9130            NaN  \n\n[9131 rows x 5 columns]",
      "text/html": "<div>\n<style scoped>\n    .dataframe tbody tr th:only-of-type {\n        vertical-align: middle;\n    }\n\n    .dataframe tbody tr th {\n        vertical-align: top;\n    }\n\n    .dataframe thead th {\n        text-align: right;\n    }\n</style>\n<table border=\"1\" class=\"dataframe\">\n  <thead>\n    <tr style=\"text-align: right;\">\n      <th></th>\n      <th>actions</th>\n      <th>category</th>\n      <th>stars</th>\n      <th>open_issues</th>\n      <th>pull_requests</th>\n    </tr>\n  </thead>\n  <tbody>\n    <tr>\n      <th>0</th>\n      <td>protontypes/continuous-reforestation</td>\n      <td>[api-management, community]</td>\n      <td>168.0</td>\n      <td>4</td>\n      <td>0.0</td>\n    </tr>\n    <tr>\n      <th>1</th>\n      <td>phillipdupuis/pydantic-to-typescript</td>\n      <td>[dependency-management, api-management]</td>\n      <td>157.0</td>\n      <td>8</td>\n      <td>4.0</td>\n    </tr>\n    <tr>\n      <th>2</th>\n      <td>joelwmale/webhook-action</td>\n      <td>[monitoring, api-management]</td>\n      <td>115.0</td>\n      <td>1</td>\n      <td>6.0</td>\n    </tr>\n    <tr>\n      <th>3</th>\n      <td>getsentry/action-github-app-token</td>\n      <td>[api-management]</td>\n      <td>111.0</td>\n      <td>3</td>\n      <td>5.0</td>\n    </tr>\n    <tr>\n      <th>4</th>\n      <td>louisbrunner/checks-action</td>\n      <td>[api-management, reporting]</td>\n      <td>96.0</td>\n      <td>3</td>\n      <td>1.0</td>\n    </tr>\n    <tr>\n      <th>...</th>\n      <td>...</td>\n      <td>...</td>\n      <td>...</td>\n      <td>...</td>\n      <td>...</td>\n    </tr>\n    <tr>\n      <th>9126</th>\n      <td>siacodelabs/download-from-skynet</td>\n      <td>[backup-utilities]</td>\n      <td>1.0</td>\n      <td>1</td>\n      <td>0.0</td>\n    </tr>\n    <tr>\n      <th>9127</th>\n      <td>siacodelabs/upload-to-skynet</td>\n      <td>[backup-utilities]</td>\n      <td>1.0</td>\n      <td>1</td>\n      <td>0.0</td>\n    </tr>\n    <tr>\n      <th>9128</th>\n      <td>zcong1993/actions-git-mirror</td>\n      <td>[utilities, backup-utilities]</td>\n      <td>0.0</td>\n      <td>0</td>\n      <td>0.0</td>\n    </tr>\n    <tr>\n      <th>9129</th>\n      <td>olizilla/add-to-estuary</td>\n      <td>[publishing, backup-utilities]</td>\n      <td>1.0</td>\n      <td>0</td>\n      <td>0.0</td>\n    </tr>\n    <tr>\n      <th>9130</th>\n      <td>application-research/estuary-uploader-action</td>\n      <td>[publishing, backup-utilities]</td>\n      <td>1.0</td>\n      <td>0</td>\n      <td>NaN</td>\n    </tr>\n  </tbody>\n</table>\n<p>9131 rows × 5 columns</p>\n</div>"
     },
     "execution_count": 8,
     "metadata": {},
     "output_type": "execute_result"
    }
   ],
   "source": [
    "## The third dataset we will use contains information about GitHub Actions that are published in GitHub marketplace.\n",
    "\n",
    "df_actions = (\n",
    "    pd.read_csv('../datasets/actions.csv')\n",
    "    .assign(category=lambda d:d.apply(lambda s: eval(s.categories), axis=1))\n",
    "    [['actions','category','stars','open_issues','pull_requests']]\n",
    ")\n",
    "df_actions"
   ]
  },
  {
   "cell_type": "markdown",
   "id": "8ddc4d6b-1874-486d-bbe6-8960eadbe221",
   "metadata": {},
   "source": [
    "### Requirements : \n",
    "#### 1-Create a new column that contains the primary category of the action\n",
    "#### 2-Quantify the number of actions grouped by primary category\n",
    "#### 3-Quantify the proportion of action grouped by primary category\n",
    "#### 4-Visualise this proportion by means of a pie chart showing the 5 most frequent categories and collapsing all other categories into \"others\".\n",
    "    Hint: For information about pie charts, see https://matplotlib.org/stable/gallery/pie_and_polar_charts/pie_features.html and https://stackoverflow.com/questions/48587997/matplotlib-pie-graph-with-all-other-categories"
   ]
  },
  {
   "cell_type": "code",
   "execution_count": 8,
   "id": "7ce684fd-ee0e-4a64-bac5-db3a6eb4a3fb",
   "metadata": {},
   "outputs": [],
   "source": []
  },
  {
   "cell_type": "code",
   "execution_count": 8,
   "id": "dfb11ef7-7610-4d6a-8e1f-914812611131",
   "metadata": {},
   "outputs": [],
   "source": []
  },
  {
   "cell_type": "code",
   "execution_count": 8,
   "id": "b86ec8cb-fd3c-4d78-b832-ee5790bad7bf",
   "metadata": {},
   "outputs": [],
   "source": []
  }
 ],
 "metadata": {
  "kernelspec": {
   "display_name": "Python 3 (ipykernel)",
   "language": "python",
   "name": "python3"
  },
  "language_info": {
   "codemirror_mode": {
    "name": "ipython",
    "version": 3
   },
   "file_extension": ".py",
   "mimetype": "text/x-python",
   "name": "python",
   "nbconvert_exporter": "python",
   "pygments_lexer": "ipython3",
   "version": "3.10.6"
  }
 },
 "nbformat": 4,
 "nbformat_minor": 5
}
